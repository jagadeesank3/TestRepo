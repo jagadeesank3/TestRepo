{
 "cells": [
  {
   "cell_type": "markdown",
   "id": "2ea320dc-4141-4beb-b0b7-b0e8f93203d8",
   "metadata": {},
   "source": [
    "#new file"
   ]
  },
  {
   "cell_type": "markdown",
   "id": "dde4b896-2e6b-4fa9-a197-750784f45495",
   "metadata": {},
   "source": [
    "# Data Science Tools and Ecosystem\n"
   ]
  },
  {
   "cell_type": "markdown",
   "id": "e9891bf3-ec1c-4f19-8869-eaf637983c4a",
   "metadata": {},
   "source": [
    "Introduction:\n",
    "In this notebook, Data Science Tools and Ecosystem are summarized.\n",
    "\n",
    "__Objectives:__\n",
    "+ List popular languages for Data Science\n",
    "+ List popular libraries for Data Science\n",
    "+ List popular tools for Data Science\n",
    "+ evaluating arithmetic expressions in Python\n",
    "\n"
   ]
  },
  {
   "cell_type": "markdown",
   "id": "0373672a-dec1-4c38-9d44-592cc3884466",
   "metadata": {},
   "source": [
    "Some of the popular languages that Data Scientists use are:\n",
    "1. Python\n",
    "2. R\n",
    "3. Java\n",
    "4. Julia"
   ]
  },
  {
   "cell_type": "markdown",
   "id": "0fde9055-0982-4829-9daa-e8c3db2cbc70",
   "metadata": {},
   "source": [
    "Some of the commonly used libraries used by Data Scientists include:\n",
    "1. Numpy\n",
    "2. pandas\n",
    "3. Scipy\n",
    "4. matplotlib\n",
    "\n"
   ]
  },
  {
   "cell_type": "markdown",
   "id": "92fed65d-c632-4888-a8cc-e386ad6d5cb6",
   "metadata": {},
   "source": [
    "|Data Science Tools|\n",
    "|------------------|\n",
    "|Jupyter notebook|\n",
    "|Rstudio|\n",
    "|Anaconda|\n",
    "|VS code|\n"
   ]
  },
  {
   "cell_type": "markdown",
   "id": "69d85cd0-1c6d-4a18-8bda-9e69f51edfb5",
   "metadata": {},
   "source": [
    "### Below are a few examples of evaluating arithmetic expressions in Python.\n",
    "\n"
   ]
  },
  {
   "cell_type": "code",
   "execution_count": 19,
   "id": "e0a32618-7633-4709-bd05-33dcca624926",
   "metadata": {},
   "outputs": [
    {
     "data": {
      "text/plain": [
       "17"
      ]
     },
     "execution_count": 19,
     "metadata": {},
     "output_type": "execute_result"
    }
   ],
   "source": [
    "#This a simple arithmetic expression to mutiply then add integers\n",
    "(3*4)+5"
   ]
  },
  {
   "cell_type": "code",
   "execution_count": 21,
   "id": "1cc8332f-b5c5-4f21-a094-05557c63d910",
   "metadata": {},
   "outputs": [
    {
     "data": {
      "text/plain": [
       "3.3333333333333335"
      ]
     },
     "execution_count": 21,
     "metadata": {},
     "output_type": "execute_result"
    }
   ],
   "source": [
    "#This will convert 200 minutes to hours by diving by 60\n",
    "(200/60)"
   ]
  },
  {
   "cell_type": "markdown",
   "id": "bb164319-8ac9-4122-8f1b-f8e50cef8b71",
   "metadata": {},
   "source": [
    "## Author\n",
    "Jagadeesan Kirubakaran"
   ]
  },
  {
   "cell_type": "code",
   "execution_count": null,
   "id": "edd57a49-5d7b-4805-a897-ff7f6c231bdc",
   "metadata": {},
   "outputs": [],
   "source": []
  }
 ],
 "metadata": {
  "kernelspec": {
   "display_name": "Python [conda env:jk_env]",
   "language": "python",
   "name": "conda-env-jk_env-py"
  },
  "language_info": {
   "codemirror_mode": {
    "name": "ipython",
    "version": 3
   },
   "file_extension": ".py",
   "mimetype": "text/x-python",
   "name": "python",
   "nbconvert_exporter": "python",
   "pygments_lexer": "ipython3",
   "version": "3.12.9"
  }
 },
 "nbformat": 4,
 "nbformat_minor": 5
}
