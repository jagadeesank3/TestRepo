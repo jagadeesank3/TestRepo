{
 "cells": [
  {
   "cell_type": "code",
   "execution_count": null,
   "id": "75086b2c-e799-4d41-9f9c-e7ae0e9b93b2",
   "metadata": {},
   "outputs": [],
   "source": []
  },
  {
   "cell_type": "markdown",
   "id": "3c977641-cf7e-4cb3-8212-1a03bbdcff90",
   "metadata": {},
   "source": [
    "My First Progra\n"
   ]
  },
  {
   "cell_type": "code",
   "execution_count": 1,
   "id": "482f1b86-d90d-4810-b574-491141a252ea",
   "metadata": {},
   "outputs": [
    {
     "ename": "NameError",
     "evalue": "name 'm' is not defined",
     "output_type": "error",
     "traceback": [
      "\u001b[31m---------------------------------------------------------------------------\u001b[39m",
      "\u001b[31mNameError\u001b[39m                                 Traceback (most recent call last)",
      "\u001b[36mCell\u001b[39m\u001b[36m \u001b[39m\u001b[32mIn[1]\u001b[39m\u001b[32m, line 1\u001b[39m\n\u001b[32m----> \u001b[39m\u001b[32m1\u001b[39m [m]\n",
      "\u001b[31mNameError\u001b[39m: name 'm' is not defined"
     ]
    }
   ],
   "source": [
    "[m]\n"
   ]
  },
  {
   "cell_type": "markdown",
   "id": "dada0115-53ba-4afa-9ba0-5405b13b1311",
   "metadata": {},
   "source": []
  },
  {
   "cell_type": "code",
   "execution_count": null,
   "id": "a84f153b-eed6-47ff-b7c5-029ca8050b8b",
   "metadata": {},
   "outputs": [],
   "source": []
  },
  {
   "cell_type": "code",
   "execution_count": 2,
   "id": "8b8bb505-4216-4e6f-a1c3-724d75cf72f3",
   "metadata": {},
   "outputs": [
    {
     "data": {
      "text/plain": [
       "6"
      ]
     },
     "execution_count": 2,
     "metadata": {},
     "output_type": "execute_result"
    }
   ],
   "source": [
    "1+5\n"
   ]
  },
  {
   "cell_type": "code",
   "execution_count": 3,
   "id": "d507ddc6-d7b7-4113-bd33-11a691fcf1cd",
   "metadata": {},
   "outputs": [
    {
     "data": {
      "text/plain": [
       "4"
      ]
     },
     "execution_count": 3,
     "metadata": {},
     "output_type": "execute_result"
    }
   ],
   "source": [
    "1+3"
   ]
  },
  {
   "cell_type": "code",
   "execution_count": 3,
   "id": "4a196fdb-2f53-47fd-9c3a-2aa5ac17e557",
   "metadata": {},
   "outputs": [
    {
     "name": "stdout",
     "output_type": "stream",
     "text": [
      "25\n"
     ]
    }
   ],
   "source": [
    "x = max(5, 10, 25)\n",
    "\n",
    "print (x)"
   ]
  },
  {
   "cell_type": "code",
   "execution_count": 5,
   "id": "9172908d-36e8-4423-84b3-6f89c7a8e4f3",
   "metadata": {},
   "outputs": [],
   "source": [
    "x= pow(4,3\n",
    "      )"
   ]
  },
  {
   "cell_type": "code",
   "execution_count": 7,
   "id": "9246c1ac-f366-4a15-81b8-25dfd1026ba7",
   "metadata": {},
   "outputs": [
    {
     "name": "stdout",
     "output_type": "stream",
     "text": [
      "64\n"
     ]
    }
   ],
   "source": [
    "print(x)"
   ]
  },
  {
   "cell_type": "code",
   "execution_count": null,
   "id": "3afd8704-256d-4cdd-b6fe-852477a4910a",
   "metadata": {},
   "outputs": [],
   "source": []
  }
 ],
 "metadata": {
  "kernelspec": {
   "display_name": "R [conda env:jk_env]",
   "language": "R",
   "name": "conda-env-jk_env-r"
  },
  "language_info": {
   "codemirror_mode": "r",
   "file_extension": ".r",
   "mimetype": "text/x-r-source",
   "name": "R",
   "pygments_lexer": "r",
   "version": "3.6.1"
  }
 },
 "nbformat": 4,
 "nbformat_minor": 5
}
